{
 "cells": [
  {
   "metadata": {
    "ExecuteTime": {
     "end_time": "2025-02-25T02:43:34.080952Z",
     "start_time": "2025-02-25T02:43:34.078166Z"
    }
   },
   "cell_type": "code",
   "source": "1+2",
   "id": "365ed514d44806ce",
   "outputs": [
    {
     "data": {
      "text/plain": [
       "3"
      ]
     },
     "execution_count": 9,
     "metadata": {},
     "output_type": "execute_result"
    }
   ],
   "execution_count": 9
  },
  {
   "metadata": {},
   "cell_type": "markdown",
   "source": "# 标题",
   "id": "5afb2c183ce373b6"
  },
  {
   "metadata": {
    "ExecuteTime": {
     "end_time": "2025-02-25T02:43:34.083881Z",
     "start_time": "2025-02-25T02:43:34.081957Z"
    }
   },
   "cell_type": "code",
   "source": "a=5",
   "id": "e3b10d174c4a0f01",
   "outputs": [],
   "execution_count": 10
  },
  {
   "metadata": {
    "ExecuteTime": {
     "end_time": "2025-02-25T02:43:34.086539Z",
     "start_time": "2025-02-25T02:43:34.083881Z"
    }
   },
   "cell_type": "code",
   "source": [
    "print('hello1')\n",
    "print(a)\n",
    "print('hello2')"
   ],
   "id": "f61e5d5fe9b4e9b",
   "outputs": [
    {
     "name": "stdout",
     "output_type": "stream",
     "text": [
      "hello1\n",
      "5\n",
      "hello2\n"
     ]
    }
   ],
   "execution_count": 11
  },
  {
   "metadata": {
    "ExecuteTime": {
     "end_time": "2025-02-25T02:43:34.091054Z",
     "start_time": "2025-02-25T02:43:34.088049Z"
    }
   },
   "cell_type": "code",
   "source": "a",
   "id": "edffaa883ee2f3a8",
   "outputs": [
    {
     "data": {
      "text/plain": [
       "5"
      ]
     },
     "execution_count": 12,
     "metadata": {},
     "output_type": "execute_result"
    }
   ],
   "execution_count": 12
  },
  {
   "metadata": {},
   "cell_type": "code",
   "outputs": [],
   "execution_count": null,
   "source": "",
   "id": "f19ec2d89faa1cfd"
  }
 ],
 "metadata": {
  "kernelspec": {
   "display_name": "Python 3",
   "language": "python",
   "name": "python3"
  },
  "language_info": {
   "codemirror_mode": {
    "name": "ipython",
    "version": 2
   },
   "file_extension": ".py",
   "mimetype": "text/x-python",
   "name": "python",
   "nbconvert_exporter": "python",
   "pygments_lexer": "ipython2",
   "version": "2.7.6"
  }
 },
 "nbformat": 4,
 "nbformat_minor": 5
}
